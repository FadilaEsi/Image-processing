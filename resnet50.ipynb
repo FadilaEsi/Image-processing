{
 "cells": [
  {
   "cell_type": "code",
   "execution_count": 1,
   "id": "ecc2d313",
   "metadata": {},
   "outputs": [
    {
     "name": "stdout",
     "output_type": "stream",
     "text": [
      "Found 5144 images belonging to 3 classes.\n",
      "Found 1288 images belonging to 3 classes.\n",
      "Epoch 1/10\n",
      "161/161 [==============================] - 771s 5s/step - loss: 1.3428 - accuracy: 0.7037 - val_loss: 0.5343 - val_accuracy: 0.7966\n",
      "Epoch 2/10\n",
      "161/161 [==============================] - 688s 4s/step - loss: 0.4910 - accuracy: 0.8011 - val_loss: 0.4446 - val_accuracy: 0.7919\n",
      "Epoch 3/10\n",
      "161/161 [==============================] - 670s 4s/step - loss: 0.3933 - accuracy: 0.8466 - val_loss: 0.4174 - val_accuracy: 0.8113\n",
      "Epoch 4/10\n",
      "161/161 [==============================] - 654s 4s/step - loss: 0.3190 - accuracy: 0.8799 - val_loss: 0.3530 - val_accuracy: 0.8564\n",
      "Epoch 5/10\n",
      "161/161 [==============================] - 680s 4s/step - loss: 0.2912 - accuracy: 0.8898 - val_loss: 0.2991 - val_accuracy: 0.8882\n",
      "Epoch 6/10\n",
      "161/161 [==============================] - 664s 4s/step - loss: 0.2581 - accuracy: 0.9016 - val_loss: 0.2538 - val_accuracy: 0.9115\n",
      "Epoch 7/10\n",
      "161/161 [==============================] - 679s 4s/step - loss: 0.2596 - accuracy: 0.9016 - val_loss: 0.2772 - val_accuracy: 0.8929\n",
      "Epoch 8/10\n",
      "161/161 [==============================] - 683s 4s/step - loss: 0.2687 - accuracy: 0.8974 - val_loss: 0.2287 - val_accuracy: 0.9216\n",
      "Epoch 9/10\n",
      "161/161 [==============================] - 670s 4s/step - loss: 0.2510 - accuracy: 0.9034 - val_loss: 0.3801 - val_accuracy: 0.8602\n",
      "Epoch 10/10\n",
      "161/161 [==============================] - 677s 4s/step - loss: 0.2312 - accuracy: 0.9119 - val_loss: 0.2603 - val_accuracy: 0.9037\n"
     ]
    }
   ],
   "source": [
    "import tensorflow as tf\n",
    "from tensorflow.keras.layers import Dense, Flatten\n",
    "from tensorflow.keras.models import Model\n",
    "from tensorflow.keras.applications.resnet50 import ResNet50\n",
    "from tensorflow.keras.preprocessing.image import ImageDataGenerator\n",
    "\n",
    "# Define paths to train and test datasets\n",
    "train_path = 'C:/Users/PC/OneDrive/Bureau/image processing/Data/train'\n",
    "test_path = 'C:/Users/PC/OneDrive/Bureau/image processing/Data/test'\n",
    "\n",
    "# Define image dimensions\n",
    "img_rows, img_cols = 224, 224\n",
    "\n",
    "# Create data generator objects for training and testing\n",
    "train_datagen = ImageDataGenerator(rescale=1./255)\n",
    "test_datagen = ImageDataGenerator(rescale=1./255)\n",
    "\n",
    "train_generator = train_datagen.flow_from_directory(\n",
    "    train_path,\n",
    "    target_size=(img_rows, img_cols),\n",
    "    batch_size=32,\n",
    "    class_mode='categorical')\n",
    "\n",
    "test_generator = test_datagen.flow_from_directory(\n",
    "    test_path,\n",
    "    target_size=(img_rows, img_cols),\n",
    "    batch_size=32,\n",
    "    class_mode='categorical')\n",
    "\n",
    "# Load ResNet50 model without the top layer\n",
    "resnet = ResNet50(weights='imagenet', include_top=False, input_shape=(img_rows, img_cols, 3))\n",
    "\n",
    "# Freeze ResNet50 layers\n",
    "for layer in resnet.layers:\n",
    "    layer.trainable = False\n",
    "\n",
    "# Add new layers to the model\n",
    "x = Flatten()(resnet.output)\n",
    "x = Dense(256, activation='relu')(x)\n",
    "x = Dense(3, activation='softmax')(x)\n",
    "\n",
    "# Create model\n",
    "model = Model(inputs=resnet.input, outputs=x)\n",
    "\n",
    "# Compile model\n",
    "model.compile(loss='categorical_crossentropy', optimizer='adam', metrics=['accuracy'])\n",
    "\n",
    "# Train model\n",
    "model.fit(train_generator, epochs=10, validation_data=test_generator)\n",
    "\n",
    "# Save model\n",
    "model.save('resnet50.h5')\n"
   ]
  },
  {
   "cell_type": "code",
   "execution_count": null,
   "id": "b3c5c212",
   "metadata": {},
   "outputs": [],
   "source": []
  }
 ],
 "metadata": {
  "kernelspec": {
   "display_name": "Python 3 (ipykernel)",
   "language": "python",
   "name": "python3"
  },
  "language_info": {
   "codemirror_mode": {
    "name": "ipython",
    "version": 3
   },
   "file_extension": ".py",
   "mimetype": "text/x-python",
   "name": "python",
   "nbconvert_exporter": "python",
   "pygments_lexer": "ipython3",
   "version": "3.11.0"
  }
 },
 "nbformat": 4,
 "nbformat_minor": 5
}
